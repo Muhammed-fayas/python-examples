{
 "cells": [
  {
   "cell_type": "code",
   "execution_count": 1,
   "id": "60c42df8-83cd-4714-b7e9-355aaf1c1892",
   "metadata": {},
   "outputs": [
    {
     "name": "stdin",
     "output_type": "stream",
     "text": [
      "enter a value e\n",
      "enter a value r\n",
      "enter a value y\n",
      "enter a value q\n"
     ]
    },
    {
     "name": "stdout",
     "output_type": "stream",
     "text": [
      "['e', 'r', 'y']\n"
     ]
    }
   ],
   "source": [
    "list5=[]\n",
    "i=(input(\"enter a value\"))\n",
    "while i!='q':\n",
    "    list5.append(i)\n",
    "    i=(input(\"enter a value\"))\n",
    "print(list5)"
   ]
  },
  {
   "cell_type": "code",
   "execution_count": 11,
   "id": "cf9ecd09-140f-4d04-874f-423bd5db8c81",
   "metadata": {},
   "outputs": [
    {
     "name": "stdin",
     "output_type": "stream",
     "text": [
      "enter a value e\n",
      "enter a value k\n",
      "enter a value j\n",
      "enter a value Q\n"
     ]
    },
    {
     "name": "stdout",
     "output_type": "stream",
     "text": [
      "['e', 'k', 'j']\n"
     ]
    }
   ],
   "source": [
    "list6=[]\n",
    "i=(input(\"enter a value\"))\n",
    "while i not in ['q','Q']:\n",
    "    list6.append(i)\n",
    "    i=(input(\"enter a value\"))\n",
    "print(list6)"
   ]
  },
  {
   "cell_type": "code",
   "execution_count": 21,
   "id": "76e48709-76f4-4da3-8702-3b46bfbe0f40",
   "metadata": {},
   "outputs": [
    {
     "name": "stdin",
     "output_type": "stream",
     "text": [
      "enter a value y\n",
      "enter a value f\n",
      "enter a value q\n"
     ]
    },
    {
     "name": "stdout",
     "output_type": "stream",
     "text": [
      "['y', 'f']\n"
     ]
    }
   ],
   "source": [
    "list7=[]\n",
    "i=(input(\"enter a value\"))\n",
    "while i not in['q','Q']:\n",
    "    list7.append(i)\n",
    "    if len(list7)>9:\n",
    "        break \n",
    "    i=(input(\"enter a value\"))\n",
    "print(list7)"
   ]
  },
  {
   "cell_type": "code",
   "execution_count": 29,
   "id": "831bbe3c-cb63-4570-be10-3054b7962d1d",
   "metadata": {},
   "outputs": [
    {
     "name": "stdout",
     "output_type": "stream",
     "text": [
      "7\n"
     ]
    }
   ],
   "source": [
    "list8=range(1,101)\n",
    "i=0\n",
    "while list8[i]%7!=0:\n",
    "    i+=1\n",
    "else:\n",
    "    print(list8[i])"
   ]
  },
  {
   "cell_type": "code",
   "execution_count": 46,
   "id": "3a225968-be03-4969-bc49-fd580e54b683",
   "metadata": {},
   "outputs": [
    {
     "name": "stdout",
     "output_type": "stream",
     "text": [
      "4\n"
     ]
    }
   ],
   "source": [
    "z=('DhaniYaSalaM')\n",
    "\n",
    "count=0\n",
    "for value in z:\n",
    "    if value.isupper():\n",
    "        count=count+1\n",
    "print(count)\n",
    "\n",
    "\n",
    "        \n",
    "    \n",
    "        \n",
    "\n"
   ]
  },
  {
   "cell_type": "code",
   "execution_count": 45,
   "id": "c803256e-1aa4-42e1-92e8-2437955f51f3",
   "metadata": {},
   "outputs": [
    {
     "name": "stdout",
     "output_type": "stream",
     "text": [
      "8\n"
     ]
    }
   ],
   "source": [
    "z=('DhaniYaSalaM')\n",
    "\n",
    "count=0\n",
    "for value in z:\n",
    "    if value.islower():\n",
    "        count=count+1\n",
    "print(count)\n",
    "\n",
    "\n",
    "        \n",
    "    \n",
    "        \n",
    "\n"
   ]
  },
  {
   "cell_type": "code",
   "execution_count": 68,
   "id": "35330700-c81e-4a47-9a63-764a03067ac3",
   "metadata": {},
   "outputs": [
    {
     "name": "stdout",
     "output_type": "stream",
     "text": [
      "enter upper value= 4\n",
      "enter lower value= 8\n",
      "enter number value= 10\n"
     ]
    }
   ],
   "source": [
    "z='DhaniYa9845567432SalaM'\n",
    "uppercount=0\n",
    "lowercount=0\n",
    "numbercount=0\n",
    "for value in z:\n",
    "    if value.isupper():\n",
    "        uppercount=uppercount+1\n",
    "    elif value.islower():\n",
    "       lowercount=lowercount+1\n",
    "    else:\n",
    "        numbercount=numbercount+1\n",
    "print('enter upper value=',uppercount)\n",
    "print('enter lower value=',lowercount)\n",
    "print('enter number value=',numbercount)\n",
    "\n",
    "\n",
    "        \n",
    "    \n",
    "        \n",
    "\n"
   ]
  },
  {
   "cell_type": "code",
   "execution_count": 71,
   "id": "a00e6c82-7fdf-4069-9a47-1882fa937636",
   "metadata": {},
   "outputs": [
    {
     "data": {
      "text/plain": [
       "'hello'"
      ]
     },
     "execution_count": 71,
     "metadata": {},
     "output_type": "execute_result"
    }
   ],
   "source": [
    " def sum1():\n",
    "     return('hello')\n",
    "sum1()\n",
    "a=sum1()\n",
    "a\n"
   ]
  },
  {
   "cell_type": "code",
   "execution_count": 80,
   "id": "0a7e5cc5-5586-4345-bb8a-e44612cf93c1",
   "metadata": {},
   "outputs": [
    {
     "name": "stdout",
     "output_type": "stream",
     "text": [
      "hello\n"
     ]
    },
    {
     "data": {
      "text/plain": [
       "'hello'"
      ]
     },
     "execution_count": 80,
     "metadata": {},
     "output_type": "execute_result"
    }
   ],
   "source": [
    "def sum2():\n",
    "    return('hello')\n",
    "\n",
    "print(sum2())\n",
    "b=sum2()\n",
    "b"
   ]
  },
  {
   "cell_type": "code",
   "execution_count": 79,
   "id": "a9d747de-a2de-4ced-abca-fabe8729c1b9",
   "metadata": {},
   "outputs": [
    {
     "name": "stdout",
     "output_type": "stream",
     "text": [
      "123\n"
     ]
    },
    {
     "data": {
      "text/plain": [
       "123"
      ]
     },
     "execution_count": 79,
     "metadata": {},
     "output_type": "execute_result"
    }
   ],
   "source": [
    "def sum3(a,b):\n",
    "    return(a+b)\n",
    "\n",
    "print(sum3(45,78))\n",
    "c=sum3(45,78)\n",
    "c"
   ]
  },
  {
   "cell_type": "code",
   "execution_count": 81,
   "id": "cd9e4e6e-0d42-4ff5-a8c5-76ca425ad356",
   "metadata": {},
   "outputs": [
    {
     "name": "stdout",
     "output_type": "stream",
     "text": [
      "45\n"
     ]
    },
    {
     "data": {
      "text/plain": [
       "135"
      ]
     },
     "execution_count": 81,
     "metadata": {},
     "output_type": "execute_result"
    }
   ],
   "source": [
    "def sum4(a,b=0):\n",
    "    return(a+b)\n",
    "\n",
    "print(sum4(45))\n",
    "d=sum4(45,90)\n",
    "d"
   ]
  },
  {
   "cell_type": "code",
   "execution_count": 92,
   "id": "f46f4210-615f-41f7-a774-27eef04061dd",
   "metadata": {},
   "outputs": [
    {
     "data": {
      "text/plain": [
       "55"
      ]
     },
     "execution_count": 92,
     "metadata": {},
     "output_type": "execute_result"
    }
   ],
   "source": [
    "a=range(1,11)\n",
    "def dhaniya(b):\n",
    "    sum=0\n",
    "    for value in b:\n",
    "        sum=sum+value\n",
    "    return sum\n",
    "\n",
    "dhaniya(a)\n"
   ]
  },
  {
   "cell_type": "code",
   "execution_count": null,
   "id": "f4b949f4-aa77-4248-8e1d-a8ba9aef7601",
   "metadata": {},
   "outputs": [],
   "source": []
  }
 ],
 "metadata": {
  "kernelspec": {
   "display_name": "Python 3 (ipykernel)",
   "language": "python",
   "name": "python3"
  },
  "language_info": {
   "codemirror_mode": {
    "name": "ipython",
    "version": 3
   },
   "file_extension": ".py",
   "mimetype": "text/x-python",
   "name": "python",
   "nbconvert_exporter": "python",
   "pygments_lexer": "ipython3",
   "version": "3.12.4"
  }
 },
 "nbformat": 4,
 "nbformat_minor": 5
}
