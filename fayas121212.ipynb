{
 "cells": [
  {
   "cell_type": "code",
   "execution_count": 1,
   "id": "32ddf5aa-fbb1-4d5f-aa22-a1e6401f9437",
   "metadata": {},
   "outputs": [],
   "source": [
    "import sqlite3"
   ]
  },
  {
   "cell_type": "code",
   "execution_count": 2,
   "id": "06540670-8617-46f6-b679-195598419be5",
   "metadata": {},
   "outputs": [],
   "source": [
    "a1= sqlite3.connect('geek.db')"
   ]
  },
  {
   "cell_type": "code",
   "execution_count": 4,
   "id": "2f30bfc4-b52b-432b-9c37-b075c9c67d9d",
   "metadata": {},
   "outputs": [
    {
     "data": {
      "text/plain": [
       "<sqlite3.Connection at 0x18cd15e8d60>"
      ]
     },
     "execution_count": 4,
     "metadata": {},
     "output_type": "execute_result"
    }
   ],
   "source": [
    "a1"
   ]
  },
  {
   "cell_type": "code",
   "execution_count": 5,
   "id": "a9915ff8-d601-4dac-b923-c940d939dd1a",
   "metadata": {},
   "outputs": [],
   "source": [
    "cursor1 = a1.cursor()"
   ]
  },
  {
   "cell_type": "code",
   "execution_count": 6,
   "id": "7ba15aec-932f-4143-b495-e011c46e3c9b",
   "metadata": {},
   "outputs": [
    {
     "data": {
      "text/plain": [
       "<sqlite3.Cursor at 0x18cd15d62c0>"
      ]
     },
     "execution_count": 6,
     "metadata": {},
     "output_type": "execute_result"
    }
   ],
   "source": [
    "cursor1"
   ]
  },
  {
   "cell_type": "code",
   "execution_count": 7,
   "id": "42a985c3-c231-4a3e-a989-f9a00a4bd3c7",
   "metadata": {},
   "outputs": [],
   "source": [
    "table = \"\"\" CREATE TABLE GEEK (\n",
    "            Email VARCHAR(255) NOT NULL,\n",
    "            First_Name CHAR(25) NOT NULL,\n",
    "            Last_Name CHAR(25),\n",
    "            Score INT\n",
    "        ); \"\"\""
   ]
  },
  {
   "cell_type": "code",
   "execution_count": 8,
   "id": "a4a084f6-cd29-4695-93ce-0c27ecb73830",
   "metadata": {},
   "outputs": [
    {
     "data": {
      "text/plain": [
       "<sqlite3.Cursor at 0x18cd15d62c0>"
      ]
     },
     "execution_count": 8,
     "metadata": {},
     "output_type": "execute_result"
    }
   ],
   "source": [
    "cursor1.execute(table)\n",
    " "
   ]
  },
  {
   "cell_type": "code",
   "execution_count": null,
   "id": "5a17c1dd-9587-4b9d-bcc9-0d27f9db3ca0",
   "metadata": {},
   "outputs": [],
   "source": []
  }
 ],
 "metadata": {
  "kernelspec": {
   "display_name": "Python 3 (ipykernel)",
   "language": "python",
   "name": "python3"
  },
  "language_info": {
   "codemirror_mode": {
    "name": "ipython",
    "version": 3
   },
   "file_extension": ".py",
   "mimetype": "text/x-python",
   "name": "python",
   "nbconvert_exporter": "python",
   "pygments_lexer": "ipython3",
   "version": "3.12.4"
  }
 },
 "nbformat": 4,
 "nbformat_minor": 5
}
