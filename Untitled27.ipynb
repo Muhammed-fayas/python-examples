{
 "cells": [
  {
   "cell_type": "code",
   "execution_count": 13,
   "id": "be5d680b-e2b6-402d-b250-cd18f2e885a5",
   "metadata": {},
   "outputs": [],
   "source": [
    "import requests\n",
    "from bs4 import BeautifulSoup\n",
    "import pandas as pd"
   ]
  },
  {
   "cell_type": "markdown",
   "id": "9bc535df-11b2-468d-9284-85033e9d7fce",
   "metadata": {},
   "source": [
    "## Base URL of the website to scrape"
   ]
  },
  {
   "cell_type": "code",
   "execution_count": 34,
   "id": "c4786275-fb71-40a1-9773-5fb6afcd0489",
   "metadata": {},
   "outputs": [],
   "source": [
    "base_url = 'http://books.toscrape.com/catalogue/page-{}.html'\n"
   ]
  },
  {
   "cell_type": "markdown",
   "id": "7fffa315-64f6-474e-bd25-5d7cce8015bf",
   "metadata": {},
   "source": [
    "## Lists to store scraped data\n",
    "\n"
   ]
  },
  {
   "cell_type": "code",
   "execution_count": 35,
   "id": "f48ea7aa-ea76-421f-a0b9-12a7b0e0fc88",
   "metadata": {},
   "outputs": [],
   "source": [
    "titles = []\n",
    "prices = []\n",
    "availabilities = []"
   ]
  },
  {
   "cell_type": "markdown",
   "id": "acf7c181-71a5-46cb-826a-2a1cbf4a8a86",
   "metadata": {},
   "source": [
    "## Loop through the first few pages of the website (modify range as needed)"
   ]
  },
  {
   "cell_type": "code",
   "execution_count": 36,
   "id": "07e83407-a3ba-48d9-aca0-64710333d2a5",
   "metadata": {},
   "outputs": [],
   "source": [
    "for page in range(1, 51):  # Scrape the first 2 pages, change range(1, n) to scrape more pages\n",
    "    # Generate the URL for each page\n",
    "    url = base_url.format(page)\n",
    "    \n",
    "    # Send a GET request to the page\n",
    "    response = requests.get(url)\n",
    "    \n",
    "    # Check if the request was successful\n",
    "    if response.status_code == 200:\n",
    "        # Parse the page content\n",
    "        soup = BeautifulSoup(response.text, 'html.parser')\n",
    "        \n",
    "        # Find all the books on the page\n",
    "        books = soup.find_all('article', class_='product_pod')\n",
    "        \n",
    "        # Loop through each book and extract data\n",
    "        for book in books:\n",
    "            # Extract title\n",
    "            title = book.h3.a['title']\n",
    "            titles.append(title)\n",
    "            \n",
    "            # Extract price\n",
    "            price = book.find('p', class_='price_color').text\n",
    "            prices.append(price)\n",
    "            \n",
    "            # Extract availability\n",
    "            availability = book.find('p', class_='instock availability').text.strip()\n",
    "            availabilities.append(availability)\n",
    "    else:\n",
    "        print(f\"Failed to retrieve page {page}. Status code: {response.status_code}\")"
   ]
  },
  {
   "cell_type": "markdown",
   "id": "359016a3-d342-4475-b7aa-3479ffa45e10",
   "metadata": {},
   "source": [
    "## Create a DataFrame to store the scraped data"
   ]
  },
  {
   "cell_type": "code",
   "execution_count": 37,
   "id": "4ffe76de-f069-4864-8dc2-4b8519e1eed6",
   "metadata": {},
   "outputs": [],
   "source": [
    "books_df = pd.DataFrame({\n",
    "    'Title': titles,\n",
    "    'Price': prices,\n",
    "    'Availability': availabilities\n",
    "})"
   ]
  },
  {
   "cell_type": "markdown",
   "id": "e677fbd2-0a44-42e8-b9c2-fceb7ac83241",
   "metadata": {},
   "source": [
    "## Save the DataFrame to a CSV file"
   ]
  },
  {
   "cell_type": "code",
   "execution_count": 39,
   "id": "4181da34-9c9d-4e10-aee5-275b989f45dc",
   "metadata": {},
   "outputs": [
    {
     "data": {
      "text/html": [
       "<div>\n",
       "<style scoped>\n",
       "    .dataframe tbody tr th:only-of-type {\n",
       "        vertical-align: middle;\n",
       "    }\n",
       "\n",
       "    .dataframe tbody tr th {\n",
       "        vertical-align: top;\n",
       "    }\n",
       "\n",
       "    .dataframe thead th {\n",
       "        text-align: right;\n",
       "    }\n",
       "</style>\n",
       "<table border=\"1\" class=\"dataframe\">\n",
       "  <thead>\n",
       "    <tr style=\"text-align: right;\">\n",
       "      <th></th>\n",
       "      <th>Title</th>\n",
       "      <th>Price</th>\n",
       "      <th>Availability</th>\n",
       "    </tr>\n",
       "  </thead>\n",
       "  <tbody>\n",
       "    <tr>\n",
       "      <th>0</th>\n",
       "      <td>A Light in the Attic</td>\n",
       "      <td>Â£51.77</td>\n",
       "      <td>In stock</td>\n",
       "    </tr>\n",
       "    <tr>\n",
       "      <th>1</th>\n",
       "      <td>Tipping the Velvet</td>\n",
       "      <td>Â£53.74</td>\n",
       "      <td>In stock</td>\n",
       "    </tr>\n",
       "    <tr>\n",
       "      <th>2</th>\n",
       "      <td>Soumission</td>\n",
       "      <td>Â£50.10</td>\n",
       "      <td>In stock</td>\n",
       "    </tr>\n",
       "    <tr>\n",
       "      <th>3</th>\n",
       "      <td>Sharp Objects</td>\n",
       "      <td>Â£47.82</td>\n",
       "      <td>In stock</td>\n",
       "    </tr>\n",
       "    <tr>\n",
       "      <th>4</th>\n",
       "      <td>Sapiens: A Brief History of Humankind</td>\n",
       "      <td>Â£54.23</td>\n",
       "      <td>In stock</td>\n",
       "    </tr>\n",
       "    <tr>\n",
       "      <th>...</th>\n",
       "      <td>...</td>\n",
       "      <td>...</td>\n",
       "      <td>...</td>\n",
       "    </tr>\n",
       "    <tr>\n",
       "      <th>995</th>\n",
       "      <td>Alice in Wonderland (Alice's Adventures in Won...</td>\n",
       "      <td>Â£55.53</td>\n",
       "      <td>In stock</td>\n",
       "    </tr>\n",
       "    <tr>\n",
       "      <th>996</th>\n",
       "      <td>Ajin: Demi-Human, Volume 1 (Ajin: Demi-Human #1)</td>\n",
       "      <td>Â£57.06</td>\n",
       "      <td>In stock</td>\n",
       "    </tr>\n",
       "    <tr>\n",
       "      <th>997</th>\n",
       "      <td>A Spy's Devotion (The Regency Spies of London #1)</td>\n",
       "      <td>Â£16.97</td>\n",
       "      <td>In stock</td>\n",
       "    </tr>\n",
       "    <tr>\n",
       "      <th>998</th>\n",
       "      <td>1st to Die (Women's Murder Club #1)</td>\n",
       "      <td>Â£53.98</td>\n",
       "      <td>In stock</td>\n",
       "    </tr>\n",
       "    <tr>\n",
       "      <th>999</th>\n",
       "      <td>1,000 Places to See Before You Die</td>\n",
       "      <td>Â£26.08</td>\n",
       "      <td>In stock</td>\n",
       "    </tr>\n",
       "  </tbody>\n",
       "</table>\n",
       "<p>1000 rows × 3 columns</p>\n",
       "</div>"
      ],
      "text/plain": [
       "                                                 Title    Price Availability\n",
       "0                                 A Light in the Attic  Â£51.77     In stock\n",
       "1                                   Tipping the Velvet  Â£53.74     In stock\n",
       "2                                           Soumission  Â£50.10     In stock\n",
       "3                                        Sharp Objects  Â£47.82     In stock\n",
       "4                Sapiens: A Brief History of Humankind  Â£54.23     In stock\n",
       "..                                                 ...      ...          ...\n",
       "995  Alice in Wonderland (Alice's Adventures in Won...  Â£55.53     In stock\n",
       "996   Ajin: Demi-Human, Volume 1 (Ajin: Demi-Human #1)  Â£57.06     In stock\n",
       "997  A Spy's Devotion (The Regency Spies of London #1)  Â£16.97     In stock\n",
       "998                1st to Die (Women's Murder Club #1)  Â£53.98     In stock\n",
       "999                 1,000 Places to See Before You Die  Â£26.08     In stock\n",
       "\n",
       "[1000 rows x 3 columns]"
      ]
     },
     "execution_count": 39,
     "metadata": {},
     "output_type": "execute_result"
    }
   ],
   "source": [
    "books_df"
   ]
  },
  {
   "cell_type": "code",
   "execution_count": 40,
   "id": "136da95e-1aaa-433d-ae77-3b92e7d5968c",
   "metadata": {},
   "outputs": [
    {
     "name": "stdout",
     "output_type": "stream",
     "text": [
      "Scraping completed. Data saved to books.csv\n"
     ]
    }
   ],
   "source": [
    "books_df.to_csv('books.csv', index=False)\n",
    "\n",
    "print(\"Scraping completed. Data saved to books.csv\")\n"
   ]
  },
  {
   "cell_type": "markdown",
   "id": "59f46bd0-6c72-4a53-9a02-124432adb674",
   "metadata": {},
   "source": [
    "# converting to excel"
   ]
  },
  {
   "cell_type": "code",
   "execution_count": 11,
   "id": "8043f4b2-ae40-4f1d-9872-3cc8270128b6",
   "metadata": {},
   "outputs": [
    {
     "name": "stdout",
     "output_type": "stream",
     "text": [
      "Scraping completed. Data saved to books.excel\n"
     ]
    }
   ],
   "source": [
    "books_df.to_excel('books.xlsx',sheet_name=\"Books\")\n",
    "print(\"Scraping completed. Data saved to books.excel\")"
   ]
  },
  {
   "cell_type": "code",
   "execution_count": null,
   "id": "e6ad1024-a5af-48b2-b6a0-0139f666c12a",
   "metadata": {},
   "outputs": [],
   "source": []
  }
 ],
 "metadata": {
  "kernelspec": {
   "display_name": "Python 3 (ipykernel)",
   "language": "python",
   "name": "python3"
  },
  "language_info": {
   "codemirror_mode": {
    "name": "ipython",
    "version": 3
   },
   "file_extension": ".py",
   "mimetype": "text/x-python",
   "name": "python",
   "nbconvert_exporter": "python",
   "pygments_lexer": "ipython3",
   "version": "3.12.4"
  }
 },
 "nbformat": 4,
 "nbformat_minor": 5
}
