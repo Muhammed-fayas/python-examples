{
 "cells": [
  {
   "cell_type": "code",
   "execution_count": 15,
   "id": "9b480ea1-b2d4-4d36-9b58-50baaf6e2bbc",
   "metadata": {},
   "outputs": [],
   "source": [
    "class simple:\n",
    "   def fayas(self):\n",
    "    list1=[1,2,3,4,5,6,7]\n",
    "    sum=0\n",
    "    for value in list1:\n",
    "        sum=sum+value\n",
    "    return sum\n",
    "a= simple()"
   ]
  },
  {
   "cell_type": "code",
   "execution_count": 16,
   "id": "67e1f154-d72b-47fe-81ab-2feefb7da9f9",
   "metadata": {},
   "outputs": [
    {
     "data": {
      "text/plain": [
       "28"
      ]
     },
     "execution_count": 16,
     "metadata": {},
     "output_type": "execute_result"
    }
   ],
   "source": [
    "a.fayas()"
   ]
  },
  {
   "cell_type": "code",
   "execution_count": null,
   "id": "848b29d9-649a-4b69-8146-3f0761819571",
   "metadata": {},
   "outputs": [],
   "source": []
  }
 ],
 "metadata": {
  "kernelspec": {
   "display_name": "Python 3 (ipykernel)",
   "language": "python",
   "name": "python3"
  },
  "language_info": {
   "codemirror_mode": {
    "name": "ipython",
    "version": 3
   },
   "file_extension": ".py",
   "mimetype": "text/x-python",
   "name": "python",
   "nbconvert_exporter": "python",
   "pygments_lexer": "ipython3",
   "version": "3.12.4"
  }
 },
 "nbformat": 4,
 "nbformat_minor": 5
}
